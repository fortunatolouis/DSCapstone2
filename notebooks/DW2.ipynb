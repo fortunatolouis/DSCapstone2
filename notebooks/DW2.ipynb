{
 "cells": [
  {
   "cell_type": "code",
   "execution_count": 1,
   "id": "2e045e25",
   "metadata": {},
   "outputs": [],
   "source": [
    "import pandas as pd\n",
    "import numpy as np\n",
    "import json\n",
    "import requests\n",
    "import os\n",
    "from dotenv import load_dotenv"
   ]
  },
  {
   "cell_type": "code",
   "execution_count": 2,
   "id": "9c4c1ebb",
   "metadata": {},
   "outputs": [],
   "source": [
    "load_dotenv()\n",
    "API_KEY = os.getenv('API_KEY')"
   ]
  },
  {
   "cell_type": "code",
   "execution_count": 3,
   "id": "7617a7ab",
   "metadata": {},
   "outputs": [],
   "source": [
    "def pages_to_json(page,desired_year):    \n",
    "    url = 'https://api.data.gov/ed/collegescorecard/v1/schools.json'\n",
    "    response = requests.get(url,\n",
    "                            params={'fields':'id,{year}.student,{year}.cost,{year}.aid,{year}.completion,{year}.admission,{year}.academics'.format(year=desired_year),\n",
    "                                    'keys_nested':'true',\n",
    "                                    'page':page,\n",
    "                                    'api_key':API_KEY}\n",
    "                           )\n",
    "    print('data:',response.text)\n",
    "    res = response.json()\n",
    "    data = res['results']\n",
    "    \n",
    "    # write raw results to_files\n",
    "    json_object = json.dumps(data, indent=4)\n",
    "    \n",
    "    with open(\"../data/raw/page_{}_{}.json\".format(desired_year,str(page)), \"w\") as outfile:\n",
    "        outfile.write(json_object)\n",
    "\n",
    "        \n",
    "def schools_to_json(page):\n",
    "    url = 'https://api.data.gov/ed/collegescorecard/v1/schools.json'\n",
    "    response = requests.get(url,\n",
    "                            params={'fields':'id,school',\n",
    "                                    'keys_nested':'true',\n",
    "                                    'page':page,\n",
    "                                    'api_key':API_KEY}\n",
    "                           )\n",
    "    res = response.json()\n",
    "    print('school:',response.text)\n",
    "    data = res['results']\n",
    "    \n",
    "    json_object = json.dumps(data, indent=4)\n",
    "    \n",
    "    with open(\"../data/raw/schools_page_{}.json\".format(str(page)), \"w\") as outfile:\n",
    "        outfile.write(json_object)\n",
    "\n",
    "def data_to_df(desired_year):\n",
    "    # Removing 'program_available' key, which returns true of false\n",
    "    # Depending on whether 'program' has a non-zero value\n",
    "    # 2 indicates program available distance edu only\n",
    "    \n",
    "    pages = os.listdir('../data/raw')\n",
    "    data_pages = [page for page in pages\n",
    "                  if '_{year}_'.format(year=desired_year) in page] \n",
    "    schools_pages = [page for page in pages\n",
    "                     if 'schools_' in page]\n",
    "    \n",
    "    df_infos = []\n",
    "    for data_page in data_pages:\n",
    "        with open('../data/raw/' + data_page) as json_file:\n",
    "            data = json.load(json_file)\n",
    "\n",
    "        for datum in data:\n",
    "            datum['{year}'.format(year=desired_year)]['academics'].pop('program_reporter', None)\n",
    "            datum['{year}'.format(year=desired_year)]['academics'].pop('program_available', None)\n",
    "            datum['{year}'.format(year=desired_year)]['cost'].pop('program_reporter', None)\n",
    "\n",
    "        df = pd.json_normalize(data)\n",
    "        df_dropping = df.copy()\n",
    "\n",
    "        # zero fills and dropping writing\n",
    "        completion_columns = [feat for feat in df_dropping.columns if '{year}.completion'.format(year=desired_year) in feat]\n",
    "        zero_repl = dict(zip(completion_columns, np.zeros_like(completion_columns,dtype='int')))\n",
    "        df_dropping = df_dropping.fillna(zero_repl)\n",
    "\n",
    "        writing_columns = [feat for feat in df_dropping.columns if 'writing' in feat]\n",
    "        df_dropping = df_dropping.drop(columns=writing_columns)\n",
    "\n",
    "        share_columns = [feat for feat in df_dropping.columns if '{year}.student'.format(year=desired_year) in feat]\n",
    "        zero_repl = dict(zip(share_columns, np.zeros_like(share_columns,dtype='int')))\n",
    "        df_dropping = df_dropping.fillna(zero_repl)\n",
    "\n",
    "        program_pct_avail = [feat for feat in df_dropping.columns if 'latest.academics.program' in feat]\n",
    "        zero_repl = dict(zip(program_pct_avail, np.zeros_like(program_pct_avail,dtype='int')))\n",
    "        df_dropping = df_dropping.fillna(zero_repl)\n",
    "\n",
    "        # enrollment.all is discontinued\n",
    "        df_dropping = df_dropping.drop(columns='{year}.student.enrollment.all'.format(year=desired_year))\n",
    "\n",
    "        # don't need this column\n",
    "        df_dropping = df_dropping.drop(columns='latest.admissions.admission_rate.by_ope_id')\n",
    "\n",
    "        # handle behaviors\n",
    "        public_columns = [\n",
    "            feat for feat in df_dropping.columns \n",
    "            if '{year}.cost.avg_net_price.public'.format(year=desired_year) in feat\n",
    "            or '{year}.cost.net_price.public'.format(year=desired_year) in feat\n",
    "            or '{year}.cost.title_iv.public'.format(year=desired_year) in feat\n",
    "        ]\n",
    "        private_columns = [\n",
    "            feat for feat in df_dropping.columns \n",
    "            if '{year}.cost.avg_net_price.private'.format(year=desired_year) in feat\n",
    "            or '{year}.cost.net_price.private'.format(year=desired_year) in feat\n",
    "            or '{year}.cost.title_iv.private'.format(year=desired_year) in feat\n",
    "        ]\n",
    "        program_columns = [\n",
    "            feat for feat in df_dropping.columns \n",
    "            if '{year}.cost.avg_net_price.program_year'.format(year=desired_year) in feat\n",
    "            or '{year}.cost.net_price.program_reporter'.format(year=desired_year) in feat\n",
    "            or '{year}.cost.title_iv.program_reporter'.format(year=desired_year) in feat\n",
    "            or '{year}.cost.title_iv.program_year'.format(year=desired_year) in feat\n",
    "        ]\n",
    "        other_ay_columns = [\n",
    "            feat for feat in df_dropping.columns \n",
    "            if '{year}.cost.avg_net_price.other_academic_year'.format(year=desired_year) in feat\n",
    "            or '{year}.cost.net_price.other_acad_calendar'.format(year=desired_year) in feat\n",
    "            or '{year}.cost.title_iv.other_acad_calendar'.format(year=desired_year) in feat\n",
    "            or '{year}.cost.title_iv.academic_year'.format(year=desired_year) in feat\n",
    "        ]\n",
    "        public_net_columns = [\n",
    "            feat for feat in df_dropping.columns \n",
    "            if 'latest.cost.avg_net_price.public' in feat\n",
    "            or 'latest.cost.net_price.public' in feat\n",
    "        ]\n",
    "        consumer_columns = [\n",
    "            feat for feat in df_dropping.columns \n",
    "            if 'latest.cost.avg_net_price.overall' in feat\n",
    "            or 'latest.cost.net_price.consumer' in feat\n",
    "        ]\n",
    "        for i in range(len(public_columns)):\n",
    "            df_dropping[public_columns[i]].fillna(df_dropping[private_columns[i]],inplace=True)\n",
    "            df_dropping[public_columns[i]].fillna(df_dropping[program_columns[i]],inplace=True)\n",
    "            df_dropping[public_columns[i]].fillna(df_dropping[other_ay_columns[i]],inplace=True)\n",
    "        df_dropping = df_dropping.drop(columns=private_columns)\n",
    "        df_dropping = df_dropping.drop(columns=program_columns)\n",
    "        df_dropping = df_dropping.drop(columns=other_ay_columns)\n",
    "\n",
    "        for i in range(len(public_net_columns)):\n",
    "            df_dropping[public_net_columns[i]].fillna(df_dropping[consumer_columns[i]],inplace=True)\n",
    "        df_dropping = df_dropping.drop(columns=consumer_columns)\n",
    "\n",
    "        df_dropping['latest.cost.avg_net_price.consumer.median_by_pred_degree'].fillna(\n",
    "            df_dropping['latest.cost.avg_net_price.consumer.overall_median'],inplace=True)\n",
    "\n",
    "        df_dropping.columns = df_dropping.columns.str.replace(r'latest.cost.avg_net_price.public',\n",
    "                                                          'latest.cost.avg_net_price',\n",
    "                                                          regex=True)\n",
    "        df_dropping.columns = df_dropping.columns.str.replace(r'latest.cost.net_price.public',\n",
    "                                                          'latest.cost.net_price',\n",
    "                                                          regex=True)\n",
    "        df_dropping.columns = df_dropping.columns.str.replace(r'latest.cost.title_iv.public',\n",
    "                                                          'latest.cost.title_iv',\n",
    "                                                          regex=True)\n",
    "\n",
    "        df_dropping['{year}.cost.attendance.academic_year'.format(year=desired_year)].fillna(\n",
    "            df_dropping['{year}.cost.attendance.program_year'.format(year=desired_year)],\n",
    "            inplace=True)\n",
    "        df_dropping['{year}.cost.tuition.in_state'.format(year=desired_year)].fillna(\n",
    "            df_dropping['{year}.cost.tuition.program_year'.format(year=desired_year)],\n",
    "            inplace=True)\n",
    "        df_dropping['{year}.cost.tuition.out_of_state'.format(year=desired_year)].fillna(\n",
    "            df_dropping['{year}.cost.tuition.program_year'.format(year=desired_year)],\n",
    "            inplace=True)\n",
    "        df_dropping = df_dropping.drop(columns=['{year}.cost.attendance.program_year'.format(year=desired_year), \n",
    "                                                '{year}.cost.tuition.program_year'.format(year=desired_year)])\n",
    "\n",
    "        df_renaming = df_dropping.copy()\n",
    "        df_renaming.columns = df_renaming.columns.str.replace(r'{year}.'.format(year=desired_year),'',regex=True)\n",
    "        df_renaming.columns = df_renaming.columns.str.replace(r'.','_',regex=True)\n",
    "        df_info = df_renaming.copy()\n",
    "        df_infos.append(df_info)\n",
    "\n",
    "    schools_dfs = []\n",
    "    for schools_page in schools_pages:\n",
    "        with open('../data/raw/' + schools_page) as json_file:\n",
    "            school = json.load(json_file)\n",
    "        \n",
    "        df_school_data = pd.json_normalize(school)\n",
    "        df_school_data.columns = df_school_data.columns.str.replace(r'school.','',regex=True)\n",
    "        df_school_data.columns = df_school_data.columns.str.replace(r'.','_',regex=True)\n",
    "        df_school_data_drops = df_school_data.drop(columns=['zip','url','price_calculator_url',\n",
    "                                                            'search','accreditor','alias','degree_urbanization',\n",
    "                                                            'degrees_awarded_predominant_recoded'])\n",
    "\n",
    "        df_school_data_drops = df_school_data_drops.fillna({'religious_affiliation':-1,\n",
    "                                                            'carnegie_undergrad':-1,\n",
    "                                                            'accreditor_code':'NONE',\n",
    "                                                            'locale':1})\n",
    "\n",
    "        columns_to_zero = [feat for feat in df_school_data_drops.columns\n",
    "                           if 'carnegie_basic' in feat\n",
    "                           or 'carnegie_size_setting' in feat\n",
    "                           or 'open_admissions_policy' in feat\n",
    "                           or 'minority_serving' in feat\n",
    "                           or '_only' in feat\n",
    "                           or 'endowment_' in feat\n",
    "                           or 'ownership_peps' in feat]\n",
    "        zero_repl = dict(zip(columns_to_zero, np.zeros_like(columns_to_zero,dtype='int')))\n",
    "        df_school_data_drops = df_school_data_drops.fillna(zero_repl)\n",
    "        schools_df = df_school_data_drops.copy()\n",
    "        schools_dfs.append(schools_df)\n",
    "        \n",
    "    info = pd.concat(df_infos)    \n",
    "    schools = pd.concat(schools_dfs)\n",
    "    df = schools.merge(info,on='id')\n",
    "    return df"
   ]
  },
  {
   "cell_type": "code",
   "execution_count": 4,
   "id": "1997782b",
   "metadata": {},
   "outputs": [
    {
     "data": {
      "text/plain": [
       "335"
      ]
     },
     "execution_count": 4,
     "metadata": {},
     "output_type": "execute_result"
    }
   ],
   "source": [
    "# The data contains information for 6681, results are sent in pages of 20 items\n",
    "(6681 // 20) + 1"
   ]
  },
  {
   "cell_type": "markdown",
   "id": "c69c01e8",
   "metadata": {},
   "source": [
    "Add years as desired below. Commented out as files are already saved for most recent data."
   ]
  },
  {
   "cell_type": "code",
   "execution_count": 5,
   "id": "38233a6b",
   "metadata": {},
   "outputs": [],
   "source": [
    "# years = ['latest']\n",
    "# for year in years:\n",
    "#     for i in range(335):\n",
    "#         pages_to_json(i,year)\n",
    "#         schools_to_json(i,year)"
   ]
  },
  {
   "cell_type": "code",
   "execution_count": 6,
   "id": "6bdd4b6c",
   "metadata": {},
   "outputs": [],
   "source": [
    "# Commented out code since only using most recent for now\n",
    "# dfs = []\n",
    "# for year in years:\n",
    "#     dfs.append(data_to_df(year))\n",
    "# df = pd.concat(dfs)\n",
    "df = data_to_df('latest')"
   ]
  },
  {
   "cell_type": "code",
   "execution_count": 7,
   "id": "f68672ff",
   "metadata": {
    "scrolled": true
   },
   "outputs": [
    {
     "data": {
      "text/plain": [
       "(6681, 1968)"
      ]
     },
     "execution_count": 7,
     "metadata": {},
     "output_type": "execute_result"
    }
   ],
   "source": [
    "df.shape"
   ]
  },
  {
   "cell_type": "code",
   "execution_count": 8,
   "id": "01297d33",
   "metadata": {},
   "outputs": [],
   "source": [
    "df.to_csv('../data/interim/fix_dtypes.csv')"
   ]
  },
  {
   "cell_type": "code",
   "execution_count": 9,
   "id": "279a4db7",
   "metadata": {},
   "outputs": [],
   "source": [
    "# df = pd.read_csv('../data/interim/fix_dtypes.csv')"
   ]
  },
  {
   "cell_type": "markdown",
   "id": "15e92255",
   "metadata": {},
   "source": [
    "This pipeline handles some of the quircky aspects of this nested data structure. Some of these columns may be `None` across the board. Some columns referring to shares of students population or completion demographics may be `0` across the board. These will be the first columns to drops."
   ]
  },
  {
   "cell_type": "code",
   "execution_count": 10,
   "id": "48ca7292",
   "metadata": {},
   "outputs": [
    {
     "name": "stdout",
     "output_type": "stream",
     "text": [
      "155\n"
     ]
    },
    {
     "data": {
      "text/plain": [
       "<AxesSubplot:>"
      ]
     },
     "execution_count": 10,
     "metadata": {},
     "output_type": "execute_result"
    },
    {
     "data": {
      "image/png": "[encoded data removed]",
      "text/plain": [
       "<Figure size 432x288 with 1 Axes>"
      ]
     },
     "metadata": {
      "needs_background": "light"
     },
     "output_type": "display_data"
    }
   ],
   "source": [
    "print(len(df.isna().sum()[df.isna().sum() > 0]))\n",
    "df.isna().sum()[df.isna().sum() > 0].sort_values(ascending=False).hist(bins=20)"
   ]
  },
  {
   "cell_type": "code",
   "execution_count": 11,
   "id": "b1c8fce1",
   "metadata": {},
   "outputs": [
    {
     "data": {
      "text/plain": [
       "float64    1647\n",
       "object      158\n",
       "int64        89\n",
       "int32        74\n",
       "dtype: int64"
      ]
     },
     "execution_count": 11,
     "metadata": {},
     "output_type": "execute_result"
    }
   ],
   "source": [
    "df.dtypes.value_counts()"
   ]
  },
  {
   "cell_type": "code",
   "execution_count": 12,
   "id": "8fdb49ef",
   "metadata": {},
   "outputs": [
    {
     "data": {
      "text/plain": [
       "Float64    1269\n",
       "Int64       619\n",
       "Int32        74\n",
       "string        5\n",
       "object        1\n",
       "dtype: int64"
      ]
     },
     "execution_count": 12,
     "metadata": {},
     "output_type": "execute_result"
    }
   ],
   "source": [
    "df = df.convert_dtypes()\n",
    "df.dtypes.value_counts()"
   ]
  },
  {
   "cell_type": "code",
   "execution_count": 13,
   "id": "93b51619",
   "metadata": {},
   "outputs": [
    {
     "data": {
      "text/html": [
       "<div>\n",
       "<style scoped>\n",
       "    .dataframe tbody tr th:only-of-type {\n",
       "        vertical-align: middle;\n",
       "    }\n",
       "\n",
       "    .dataframe tbody tr th {\n",
       "        vertical-align: top;\n",
       "    }\n",
       "\n",
       "    .dataframe thead th {\n",
       "        text-align: right;\n",
       "    }\n",
       "</style>\n",
       "<table border=\"1\" class=\"dataframe\">\n",
       "  <thead>\n",
       "    <tr style=\"text-align: right;\">\n",
       "      <th></th>\n",
       "      <th>name</th>\n",
       "      <th>city</th>\n",
       "      <th>state</th>\n",
       "      <th>accreditor_code</th>\n",
       "      <th>title_iv_approval_date</th>\n",
       "      <th>completion_separation_date_median</th>\n",
       "    </tr>\n",
       "  </thead>\n",
       "  <tbody>\n",
       "    <tr>\n",
       "      <th>0</th>\n",
       "      <td>Alabama A &amp; M University</td>\n",
       "      <td>Normal</td>\n",
       "      <td>AL</td>\n",
       "      <td>SACSCC</td>\n",
       "      <td>12/12/1965</td>\n",
       "      <td>12/31/2999</td>\n",
       "    </tr>\n",
       "    <tr>\n",
       "      <th>1</th>\n",
       "      <td>University of Alabama at Birmingham</td>\n",
       "      <td>Birmingham</td>\n",
       "      <td>AL</td>\n",
       "      <td>SACSCC</td>\n",
       "      <td>12/1/1965</td>\n",
       "      <td>12/31/2999</td>\n",
       "    </tr>\n",
       "    <tr>\n",
       "      <th>2</th>\n",
       "      <td>Amridge University</td>\n",
       "      <td>Montgomery</td>\n",
       "      <td>AL</td>\n",
       "      <td>SACSCC</td>\n",
       "      <td>3/26/1987</td>\n",
       "      <td>08/05/2016</td>\n",
       "    </tr>\n",
       "    <tr>\n",
       "      <th>3</th>\n",
       "      <td>University of Alabama in Huntsville</td>\n",
       "      <td>Huntsville</td>\n",
       "      <td>AL</td>\n",
       "      <td>SACSCC</td>\n",
       "      <td>12/1/1965</td>\n",
       "      <td>12/31/2999</td>\n",
       "    </tr>\n",
       "    <tr>\n",
       "      <th>4</th>\n",
       "      <td>Alabama State University</td>\n",
       "      <td>Montgomery</td>\n",
       "      <td>AL</td>\n",
       "      <td>SACSCC</td>\n",
       "      <td>12/1/1965</td>\n",
       "      <td>12/31/2999</td>\n",
       "    </tr>\n",
       "    <tr>\n",
       "      <th>...</th>\n",
       "      <td>...</td>\n",
       "      <td>...</td>\n",
       "      <td>...</td>\n",
       "      <td>...</td>\n",
       "      <td>...</td>\n",
       "      <td>...</td>\n",
       "    </tr>\n",
       "    <tr>\n",
       "      <th>6676</th>\n",
       "      <td>Raritan Valley Community College</td>\n",
       "      <td>Branchburg</td>\n",
       "      <td>NJ</td>\n",
       "      <td>MSACHE</td>\n",
       "      <td>12/20/1968</td>\n",
       "      <td>09/15/2016</td>\n",
       "    </tr>\n",
       "    <tr>\n",
       "      <th>6677</th>\n",
       "      <td>Stevens Institute of Technology</td>\n",
       "      <td>Hoboken</td>\n",
       "      <td>NJ</td>\n",
       "      <td>MSACHE</td>\n",
       "      <td>12/1/1965</td>\n",
       "      <td>12/31/2999</td>\n",
       "    </tr>\n",
       "    <tr>\n",
       "      <th>6678</th>\n",
       "      <td>Stockton University</td>\n",
       "      <td>Galloway</td>\n",
       "      <td>NJ</td>\n",
       "      <td>MSACHE</td>\n",
       "      <td>12/1/1969</td>\n",
       "      <td>12/31/2999</td>\n",
       "    </tr>\n",
       "    <tr>\n",
       "      <th>6679</th>\n",
       "      <td>Talmudical Academy-New Jersey</td>\n",
       "      <td>Adelphia</td>\n",
       "      <td>NJ</td>\n",
       "      <td>AARTS</td>\n",
       "      <td>1/30/1975</td>\n",
       "      <td>0</td>\n",
       "    </tr>\n",
       "    <tr>\n",
       "      <th>6680</th>\n",
       "      <td>Aviation Institute of Maintenance-Teterboro</td>\n",
       "      <td>Teterboro</td>\n",
       "      <td>NJ</td>\n",
       "      <td>ACCSC</td>\n",
       "      <td>3/3/1967</td>\n",
       "      <td>12/31/2999</td>\n",
       "    </tr>\n",
       "  </tbody>\n",
       "</table>\n",
       "<p>6681 rows × 6 columns</p>\n",
       "</div>"
      ],
      "text/plain": [
       "                                             name        city state  \\\n",
       "0                        Alabama A & M University      Normal    AL   \n",
       "1             University of Alabama at Birmingham  Birmingham    AL   \n",
       "2                              Amridge University  Montgomery    AL   \n",
       "3             University of Alabama in Huntsville  Huntsville    AL   \n",
       "4                        Alabama State University  Montgomery    AL   \n",
       "...                                           ...         ...   ...   \n",
       "6676             Raritan Valley Community College  Branchburg    NJ   \n",
       "6677              Stevens Institute of Technology     Hoboken    NJ   \n",
       "6678                          Stockton University    Galloway    NJ   \n",
       "6679                Talmudical Academy-New Jersey    Adelphia    NJ   \n",
       "6680  Aviation Institute of Maintenance-Teterboro   Teterboro    NJ   \n",
       "\n",
       "     accreditor_code title_iv_approval_date completion_separation_date_median  \n",
       "0             SACSCC             12/12/1965                        12/31/2999  \n",
       "1             SACSCC              12/1/1965                        12/31/2999  \n",
       "2             SACSCC              3/26/1987                        08/05/2016  \n",
       "3             SACSCC              12/1/1965                        12/31/2999  \n",
       "4             SACSCC              12/1/1965                        12/31/2999  \n",
       "...              ...                    ...                               ...  \n",
       "6676          MSACHE             12/20/1968                        09/15/2016  \n",
       "6677          MSACHE              12/1/1965                        12/31/2999  \n",
       "6678          MSACHE              12/1/1969                        12/31/2999  \n",
       "6679           AARTS              1/30/1975                                 0  \n",
       "6680           ACCSC               3/3/1967                        12/31/2999  \n",
       "\n",
       "[6681 rows x 6 columns]"
      ]
     },
     "execution_count": 13,
     "metadata": {},
     "output_type": "execute_result"
    }
   ],
   "source": [
    "df.select_dtypes(include=['object','string'])"
   ]
  },
  {
   "cell_type": "markdown",
   "id": "a15cea09",
   "metadata": {},
   "source": [
    "`completion_separation_date_median` is discontinued... drop it"
   ]
  },
  {
   "cell_type": "code",
   "execution_count": 14,
   "id": "88d6a607",
   "metadata": {},
   "outputs": [],
   "source": [
    "df = df.drop(columns='completion_separation_date_median')"
   ]
  },
  {
   "cell_type": "code",
   "execution_count": 15,
   "id": "b0fface3",
   "metadata": {
    "scrolled": true
   },
   "outputs": [
    {
     "data": {
      "text/plain": [
       "0      1965-12-12\n",
       "1      1965-12-01\n",
       "2      1987-03-26\n",
       "3      1965-12-01\n",
       "4      1965-12-01\n",
       "          ...    \n",
       "6676   1968-12-20\n",
       "6677   1965-12-01\n",
       "6678   1969-12-01\n",
       "6679   1975-01-30\n",
       "6680   1967-03-03\n",
       "Name: title_iv_approval_date, Length: 6681, dtype: datetime64[ns]"
      ]
     },
     "execution_count": 15,
     "metadata": {},
     "output_type": "execute_result"
    }
   ],
   "source": [
    "# approval date to datetime_object\n",
    "df['title_iv_approval_date'] = pd.to_datetime(df['title_iv_approval_date'],format=\"%m/%d/%Y\")\n",
    "df['title_iv_approval_date']"
   ]
  },
  {
   "cell_type": "code",
   "execution_count": 16,
   "id": "64362302",
   "metadata": {
    "scrolled": true
   },
   "outputs": [
    {
     "data": {
      "text/plain": [
       "Float64           1269\n",
       "Int64              619\n",
       "Int32               74\n",
       "string               4\n",
       "datetime64[ns]       1\n",
       "dtype: int64"
      ]
     },
     "execution_count": 16,
     "metadata": {},
     "output_type": "execute_result"
    }
   ],
   "source": [
    "df.dtypes.value_counts()"
   ]
  },
  {
   "cell_type": "markdown",
   "id": "7824821f",
   "metadata": {},
   "source": [
    "As a result of the order with which I filled some `None` values with zeroes, where a `None` indicated that no data was applicable to the field, and the field represented a proportion or percentage. However, some of these fields were discontinued. I.e. the category was indicated `None` not because truly 0% of the student body fell under that category, but rather that the feature itself was discontinued as a classifier. In other words 0% of the institution's student body have x feature because 'x' feature has been renamed 'x1' or grouped in with 'x2'. Ideally, I would have liked to have more control of the fields I selected from the API, and in future iterations should consider using Data Dictionary itself to be more precise in removing unwanted columns. For now, I will remove columns with all zeroes!"
   ]
  },
  {
   "cell_type": "code",
   "execution_count": 17,
   "id": "3a718e6d",
   "metadata": {},
   "outputs": [
    {
     "data": {
      "text/plain": [
       "0"
      ]
     },
     "execution_count": 17,
     "metadata": {},
     "output_type": "execute_result"
    }
   ],
   "source": [
    "len(df.isna().sum()[df.isna().sum() == len(df)])"
   ]
  },
  {
   "cell_type": "code",
   "execution_count": 18,
   "id": "c05ebd42",
   "metadata": {},
   "outputs": [],
   "source": [
    "dfn = df.select_dtypes(include=['Float64','Int64','Int32'])\n",
    "to_check = []\n",
    "for feat in dfn.columns:\n",
    "    if (dfn[feat] == 0).all():\n",
    "        to_check.append(feat)\n",
    "to_not_drop = [feat for feat in to_check \n",
    "               if 'died' in feat or \n",
    "               'transf_unknown' in feat or \n",
    "               'academics_program_certificate_lt_4_yr_military' in feat]\n",
    "to_drop = list(set(to_check).difference(set(to_not_drop)))\n",
    "df = df.drop(columns=to_drop)"
   ]
  },
  {
   "cell_type": "code",
   "execution_count": 19,
   "id": "d3cb9d52",
   "metadata": {},
   "outputs": [
    {
     "data": {
      "text/plain": [
       "(6681, 1925)"
      ]
     },
     "execution_count": 19,
     "metadata": {},
     "output_type": "execute_result"
    }
   ],
   "source": [
    "df.shape"
   ]
  },
  {
   "cell_type": "code",
   "execution_count": 20,
   "id": "1ac62c4f",
   "metadata": {},
   "outputs": [
    {
     "data": {
      "text/plain": [
       "tuition_revenue_per_fte                                          577\n",
       "instructional_expenditure_per_fte                                577\n",
       "faculty_salary                                                  2757\n",
       "ft_faculty_rate                                                 3135\n",
       "title_iv_approval_date                                           578\n",
       "cost_avg_net_price                                              1288\n",
       "cost_net_price_by_income_level_0-30000                          1313\n",
       "cost_net_price_by_income_level_30001-48000                      1313\n",
       "cost_net_price_by_income_level_48001-75000                      1898\n",
       "cost_net_price_by_income_level_75001-110000                     1864\n",
       "cost_net_price_by_income_level_110001-plus                      2291\n",
       "cost_net_price_by_income_level_0-48000                          1302\n",
       "cost_net_price_by_income_level_30001-75000                      1853\n",
       "cost_net_price_by_income_level_75000-plus                       2815\n",
       "cost_title_iv_all                                               1284\n",
       "cost_title_iv_by_income_level_0-30000                           1284\n",
       "cost_title_iv_by_income_level_30001-48000                       1284\n",
       "cost_title_iv_by_income_level_48001-75000                       1284\n",
       "cost_title_iv_by_income_level_75001-110000                      1284\n",
       "cost_title_iv_by_income_level_110001-plus                       1284\n",
       "cost_attendance_academic_year                                   1288\n",
       "cost_tuition_in_state                                            574\n",
       "cost_tuition_out_of_state                                        574\n",
       "cost_booksupply                                                 3276\n",
       "cost_roomboard_oncampus                                         4707\n",
       "cost_roomboard_offcampus                                        3293\n",
       "cost_otherexpense_oncampus                                      4704\n",
       "cost_otherexpense_offcampus                                     3293\n",
       "cost_otherexpense_withfamily                                    3289\n",
       "aid_pell_grant_rate                                              866\n",
       "aid_federal_loan_rate                                            866\n",
       "aid_loan_principal                                              1259\n",
       "aid_median_debt_completers_overall                              1648\n",
       "aid_median_debt_completers_monthly_payments                     1648\n",
       "aid_median_debt_noncompleters                                   1847\n",
       "aid_median_debt_income_0_30000                                  1757\n",
       "aid_median_debt_income_30001_75000                              2488\n",
       "aid_median_debt_income_greater_than_75000                       2492\n",
       "aid_median_debt_dependent_students                              1933\n",
       "aid_median_debt_independent_students                            1933\n",
       "aid_median_debt_pell_grant                                      2140\n",
       "aid_median_debt_no_pell_grant                                   2140\n",
       "aid_median_debt_female_students                                 2374\n",
       "aid_median_debt_male_students                                   2374\n",
       "aid_median_debt_first_generation_students                       2233\n",
       "aid_median_debt_non_first_generation_students                   2233\n",
       "aid_median_debt_number_overall                                  1164\n",
       "aid_median_debt_number_completers                               1555\n",
       "aid_median_debt_number_noncompleters                            1555\n",
       "aid_median_debt_number_income_0_30000                           1480\n",
       "aid_median_debt_number_income_30001_75000                       2090\n",
       "aid_median_debt_number_income_greater_than_75000                2098\n",
       "aid_median_debt_number_dependent_students                       1592\n",
       "aid_median_debt_number_independent_students                     1592\n",
       "aid_median_debt_number_pell_grant                               1769\n",
       "aid_median_debt_number_no_pell_grant                            1769\n",
       "aid_median_debt_number_female_students                          2062\n",
       "aid_median_debt_number_male_students                            2062\n",
       "aid_median_debt_number_first_generation_students                1837\n",
       "aid_median_debt_number_non_first_generation_students            1837\n",
       "aid_cumulative_debt_number                                      1412\n",
       "aid_cumulative_debt_90th_percentile                             2103\n",
       "aid_cumulative_debt_75th_percentile                             1658\n",
       "aid_cumulative_debt_25th_percentile                             1658\n",
       "aid_cumulative_debt_10th_percentile                             2103\n",
       "aid_students_with_any_loan                                      2071\n",
       "aid_median_debt_suppressed_overall                              1393\n",
       "aid_median_debt_suppressed_completers_overall                   1789\n",
       "aid_median_debt_suppressed_completers_monthly_payments          1789\n",
       "aid_ftft_pell_grant_rate                                        1137\n",
       "aid_ftft_federal_loan_rate                                      1137\n",
       "aid_ftft_undergrads_pell_federal_loan_years                      853\n",
       "aid_ftft_pell_grant_rate_pooled                                 1420\n",
       "aid_ftft_federal_loan_rate_pooled                               1420\n",
       "aid_plus_loan_pct_lower                                         1151\n",
       "aid_plus_loan_pct_upper                                         1151\n",
       "aid_plus_loan_pct_lower_pooled                                  1152\n",
       "aid_plus_loan_pct_upper_pooled                                  1152\n",
       "aid_plus_loan_pct_years                                          475\n",
       "aid_plus_debt_all_eval_inst_count                               2746\n",
       "aid_plus_debt_all_eval_inst_median                              3180\n",
       "aid_plus_debt_all_all_inst_count                                1628\n",
       "aid_plus_debt_all_all_inst_median                               2036\n",
       "aid_plus_debt_completers_eval_inst_count                        3731\n",
       "aid_plus_debt_completers_eval_inst_median                       4080\n",
       "aid_plus_debt_completers_eval_inst_median_payment               4080\n",
       "aid_plus_debt_completers_all_inst_count                         2557\n",
       "aid_plus_debt_completers_all_inst_median                        3050\n",
       "aid_plus_debt_completers_all_inst_median_payment                3050\n",
       "aid_plus_debt_noncompleters_eval_inst_count                     3731\n",
       "aid_plus_debt_noncompleters_eval_inst_median                    4080\n",
       "aid_plus_debt_noncompleters_all_inst_count                      2557\n",
       "aid_plus_debt_noncompleters_all_inst_median                     3050\n",
       "aid_plus_debt_male_eval_inst_count                              3875\n",
       "aid_plus_debt_male_eval_inst_median                             4239\n",
       "aid_plus_debt_male_all_inst_count                               2819\n",
       "aid_plus_debt_male_all_inst_median                              3148\n",
       "aid_plus_debt_not_male_eval_inst_count                          3875\n",
       "aid_plus_debt_not_male_eval_inst_median                         4239\n",
       "aid_plus_debt_not_male_all_inst_count                           2819\n",
       "aid_plus_debt_not_male_all_inst_median                          3148\n",
       "aid_plus_debt_pell_eval_inst_count                              3498\n",
       "aid_plus_debt_pell_eval_inst_median                             3992\n",
       "aid_plus_debt_pell_all_inst_count                               2435\n",
       "aid_plus_debt_pell_all_inst_median                              2901\n",
       "aid_plus_debt_not_pell_eval_inst_count                          3498\n",
       "aid_plus_debt_not_pell_eval_inst_median                         3992\n",
       "aid_plus_debt_not_pell_all_inst_count                           2435\n",
       "aid_plus_debt_not_pell_all_inst_median                          2901\n",
       "aid_plus_debt_stafford_this_school_eval_inst_count              5484\n",
       "aid_plus_debt_stafford_this_school_eval_inst_median             5988\n",
       "aid_plus_debt_stafford_this_school_all_inst_count               3440\n",
       "aid_plus_debt_stafford_this_school_all_inst_median              3957\n",
       "aid_plus_debt_nostafford_this_school_eval_inst_count            5484\n",
       "aid_plus_debt_nostafford_this_school_eval_inst_median           5988\n",
       "aid_plus_debt_nostafford_this_school_all_inst_count             3440\n",
       "aid_plus_debt_nostafford_this_school_all_inst_median            3957\n",
       "aid_plus_debt_stafford_any_school_eval_inst_count               5692\n",
       "aid_plus_debt_stafford_any_school_eval_inst_median              6122\n",
       "aid_plus_debt_stafford_any_school_all_inst_count                4937\n",
       "aid_plus_debt_stafford_any_school_all_inst_median               5591\n",
       "aid_plus_debt_nostafford_any_school_eval_inst_count             5692\n",
       "aid_plus_debt_nostafford_any_school_eval_inst_median            6122\n",
       "aid_plus_debt_nostafford_any_school_all_inst_count              4937\n",
       "aid_plus_debt_nostafford_any_school_all_inst_median             5591\n",
       "aid_plus_debt_suppressed_completers_eval_inst_median            4200\n",
       "aid_plus_debt_suppressed_completers_eval_inst_median_payment    4200\n",
       "aid_plus_debt_suppressed_completers_all_inst_median             3288\n",
       "aid_plus_debt_suppressed_completers_all_inst_median_payment     3288\n",
       "aid_portfolio_direct_loans_count                                 597\n",
       "aid_portfolio_direct_loans_amount                                597\n",
       "aid_portfolio_parent_plus_count                                 2003\n",
       "aid_portfolio_parent_plus_amount                                2003\n",
       "aid_portfolio_grad_plus_count                                   4902\n",
       "aid_portfolio_grad_plus_amount                                  4902\n",
       "admissions_admission_rate_overall                               4719\n",
       "admissions_admission_rate_consumer_rate                          975\n",
       "admissions_sat_scores_25th_percentile_critical_reading          5596\n",
       "admissions_sat_scores_25th_percentile_math                      5596\n",
       "admissions_sat_scores_75th_percentile_critical_reading          5596\n",
       "admissions_sat_scores_75th_percentile_math                      5596\n",
       "admissions_sat_scores_midpoint_critical_reading                 5596\n",
       "admissions_sat_scores_midpoint_math                             5596\n",
       "admissions_sat_scores_average_overall                           5542\n",
       "admissions_sat_scores_average_by_ope_id                         5393\n",
       "admissions_act_scores_25th_percentile_cumulative                5565\n",
       "admissions_act_scores_25th_percentile_english                   5629\n",
       "admissions_act_scores_25th_percentile_math                      5628\n",
       "admissions_act_scores_75th_percentile_cumulative                5565\n",
       "admissions_act_scores_75th_percentile_english                   5629\n",
       "admissions_act_scores_75th_percentile_math                      5628\n",
       "admissions_act_scores_midpoint_cumulative                       5565\n",
       "admissions_act_scores_midpoint_english                          5629\n",
       "admissions_act_scores_midpoint_math                             5628\n",
       "admissions_test_requirements                                    4692\n",
       "dtype: int64"
      ]
     },
     "execution_count": 20,
     "metadata": {},
     "output_type": "execute_result"
    }
   ],
   "source": [
    "pd.set_option('display.max_rows', 500)\n",
    "df.isna().sum()[df.isna().sum() > 0]"
   ]
  },
  {
   "cell_type": "markdown",
   "id": "d0ac3ed5",
   "metadata": {},
   "source": [
    "Immediate takeaway... there is a lot of information missing related to SAT scores, in fact most of the information is missing. This could be a problem, but could also be really insightful if it indicates a specific point where the university stopped requiring SAT scores.\n",
    "<br>Cost and aid take up a great deal of the missing values space. Need a way to to code values where data is missing because it is not relevant (i.e. universities not approved for Title IV with data missing for Title IV) "
   ]
  }
 ],
 "metadata": {
  "kernelspec": {
   "display_name": "Python [conda env:Capstone2]",
   "language": "python",
   "name": "conda-env-Capstone2-py"
  },
  "language_info": {
   "codemirror_mode": {
    "name": "ipython",
    "version": 3
   },
   "file_extension": ".py",
   "mimetype": "text/x-python",
   "name": "python",
   "nbconvert_exporter": "python",
   "pygments_lexer": "ipython3",
   "version": "3.9.12"
  }
 },
 "nbformat": 4,
 "nbformat_minor": 5
}
